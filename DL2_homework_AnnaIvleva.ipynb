{
  "nbformat": 4,
  "nbformat_minor": 0,
  "metadata": {
    "colab": {
      "provenance": [],
      "include_colab_link": true
    },
    "kernelspec": {
      "name": "python3",
      "display_name": "Python 3"
    },
    "language_info": {
      "name": "python"
    }
  },
  "cells": [
    {
      "cell_type": "markdown",
      "metadata": {
        "id": "view-in-github",
        "colab_type": "text"
      },
      "source": [
        "<a href=\"https://colab.research.google.com/github/IvlevaAnna1/Hometasks/blob/main/DL2_homework_AnnaIvleva.ipynb\" target=\"_parent\"><img src=\"https://colab.research.google.com/assets/colab-badge.svg\" alt=\"Open In Colab\"/></a>"
      ]
    },
    {
      "cell_type": "code",
      "execution_count": null,
      "metadata": {
        "id": "2K5UM_gqtv0c"
      },
      "outputs": [],
      "source": [
        "# task2.4. Реализовать на базе модели определения пола выявление с другим нормированием (относительно среднего значения). Также добавьте альтернативную функцию активации\n",
        "# task2.5. Реализовать решение уровнения через градиентный спуск: x**2+2x-6\n",
        "# task2.6. Запустить DL2 CNN"
      ]
    },
    {
      "cell_type": "code",
      "source": [
        "# task2.4. Реализовать на базе модели определения пола выявление с другим нормированием (относительно среднего значения). Также добавьте альтернативную функцию активации"
      ],
      "metadata": {
        "id": "9Z057psZwJQP"
      },
      "execution_count": null,
      "outputs": []
    },
    {
      "cell_type": "code",
      "source": [
        "import numpy as np\n",
        "\n",
        "def tanh(x):\n",
        "  # Sigmoid activation function: f(x) = (2 / (1 + np.exp(-2 * x)))-1\n",
        "  return (2 / (1 + np.exp(-2 * x)))-1\n",
        "\n",
        "def deriv_tanh(x):\n",
        "  # Derivative of sigmoid: f'(x) = f(x) * (1 - f(x))\n",
        "  fx = tanh(x)\n",
        "  # return fx * (1 - fx)\n",
        "  return 1 - fx**2\n",
        "\n",
        "# def mae_loss(y_true, y_pred):\n",
        "#   # y_true and y_pred are numpy arrays of the same length.\n",
        "#   return ((y_true - y_pred) ** 2).mean()\n",
        "  # return (abs(y_true - y_pred) ).mean()\n",
        "\n",
        "def mse_loss(y_true, y_pred):\n",
        "  return ((y_true - y_pred) ** 2).mean()\n",
        "\n",
        "class OurNeuralNetwork:\n",
        "  '''\n",
        "  A neural network with:\n",
        "    - 2 inputs\n",
        "    - a hidden layer with 2 neurons (h1, h2)\n",
        "    - an output layer with 1 neuron (o1)\n",
        "\n",
        "  *** DISCLAIMER ***:\n",
        "  The code below is intended to be simple and educational, NOT optimal.\n",
        "  Real neural net code looks nothing like this. DO NOT use this code.\n",
        "  Instead, read/run it to understand how this specific network works.\n",
        "  '''\n",
        "  def __init__(self):\n",
        "    # Weights\n",
        "    self.w1 = np.random.normal()\n",
        "    self.w2 = np.random.normal()\n",
        "    self.w3 = np.random.normal()\n",
        "    self.w4 = np.random.normal()\n",
        "    self.w5 = np.random.normal()\n",
        "    self.w6 = np.random.normal()\n",
        "\n",
        "    # Biases\n",
        "    self.b1 = np.random.normal()\n",
        "    self.b2 = np.random.normal()\n",
        "    self.b3 = np.random.normal()\n",
        "\n",
        "  def feedforward(self, x):\n",
        "    # x is a numpy array with 2 elements.\n",
        "    h1 = tanh(self.w1 * x[0] + self.w2 * x[1] + self.b1)\n",
        "    h2 = tanh(self.w3 * x[0] + self.w4 * x[1] + self.b2)\n",
        "    o1 = tanh(self.w5 * h1 + self.w6 * h2 + self.b3)\n",
        "    return o1\n",
        "\n",
        "  def train(self, data, all_y_trues):\n",
        "    '''\n",
        "    - data is a (n x 2) numpy array, n = # of samples in the dataset.\n",
        "    - all_y_trues is a numpy array with n elements.\n",
        "      Elements in all_y_trues correspond to those in data.\n",
        "    '''\n",
        "    learn_rate = 0.01\n",
        "    epochs = 100 # number of times to loop through the entire dataset\n",
        "\n",
        "    for epoch in range(epochs):\n",
        "      for x, y_true in zip(data, all_y_trues):\n",
        "        # --- Do a feedforward (we'll need these values later)\n",
        "        sum_h1 = self.w1 * x[0] + self.w2 * x[1] + self.b1\n",
        "        h1 = tanh(sum_h1)\n",
        "\n",
        "        sum_h2 = self.w3 * x[0] + self.w4 * x[1] + self.b2\n",
        "        h2 = tanh(sum_h2)\n",
        "\n",
        "        sum_o1 = self.w5 * h1 + self.w6 * h2 + self.b3\n",
        "        o1 = tanh(sum_o1)\n",
        "        y_pred = o1\n",
        "\n",
        "        # --- Calculate partial derivatives.\n",
        "        # --- Naming: d_L_d_w1 represents \"partial L / partial w1\"\n",
        "        d_L_d_ypred = -2 * (y_true - y_pred)\n",
        "\n",
        "        # Neuron o1\n",
        "        d_ypred_d_w5 = h1 * deriv_tanh(sum_o1)\n",
        "        d_ypred_d_w6 = h2 * deriv_tanh(sum_o1)\n",
        "        d_ypred_d_b3 = deriv_tanh(sum_o1)\n",
        "\n",
        "        d_ypred_d_h1 = self.w5 * deriv_tanh(sum_o1)\n",
        "        d_ypred_d_h2 = self.w6 * deriv_tanh(sum_o1)\n",
        "\n",
        "        # Neuron h1\n",
        "        d_h1_d_w1 = x[0] * deriv_tanh(sum_h1)\n",
        "        d_h1_d_w2 = x[1] * deriv_tanh(sum_h1)\n",
        "        d_h1_d_b1 = deriv_tanh(sum_h1)\n",
        "\n",
        "        # Neuron h2\n",
        "        d_h2_d_w3 = x[0] * deriv_tanh(sum_h2)\n",
        "        d_h2_d_w4 = x[1] * deriv_tanh(sum_h2)\n",
        "        d_h2_d_b2 = deriv_tanh(sum_h2)\n",
        "\n",
        "        # --- Update weights and biases\n",
        "        # Neuron h1\n",
        "        self.w1 -= learn_rate * d_L_d_ypred * d_ypred_d_h1 * d_h1_d_w1\n",
        "        self.w2 -= learn_rate * d_L_d_ypred * d_ypred_d_h1 * d_h1_d_w2\n",
        "        self.b1 -= learn_rate * d_L_d_ypred * d_ypred_d_h1 * d_h1_d_b1\n",
        "\n",
        "        # Neuron h2\n",
        "        self.w3 -= learn_rate * d_L_d_ypred * d_ypred_d_h2 * d_h2_d_w3\n",
        "        self.w4 -= learn_rate * d_L_d_ypred * d_ypred_d_h2 * d_h2_d_w4\n",
        "        self.b2 -= learn_rate * d_L_d_ypred * d_ypred_d_h2 * d_h2_d_b2\n",
        "\n",
        "        # Neuron o1\n",
        "        self.w5 -= learn_rate * d_L_d_ypred * d_ypred_d_w5\n",
        "        self.w6 -= learn_rate * d_L_d_ypred * d_ypred_d_w6\n",
        "        self.b3 -= learn_rate * d_L_d_ypred * d_ypred_d_b3\n",
        "\n",
        "      # --- Calculate total loss at the end of each epoch\n",
        "      if epoch % 10 == 0:\n",
        "        y_preds = np.apply_along_axis(self.feedforward, 1, data)\n",
        "        loss = mse_loss(all_y_trues, y_preds)\n",
        "        print(\"Epoch %d loss: %.3f\" % (epoch, loss))\n",
        "\n",
        "# Define dataset\n",
        "data = np.array([\n",
        "  [-2, -1],  # Alice\n",
        "  [25, 6],   # Bob\n",
        "  [17, 4],   # Charlie\n",
        "  [-15, -6], # Diana\n",
        "])\n",
        "all_y_trues = np.array([\n",
        "  1, # Alice\n",
        "  0, # Bob\n",
        "  0, # Charlie\n",
        "  1, # Diana\n",
        "])\n",
        "\n",
        "# Train our neural network!\n",
        "network = OurNeuralNetwork()\n",
        "network.train(data, all_y_trues)\n",
        "\n",
        "# Make some predictions\n",
        "emily = np.array([-7, -3]) # 128 pounds, 63 inches\n",
        "frank = np.array([20, 2])  # 155 pounds, 68 inches\n",
        "print(\"Emily: %.3f\" % network.feedforward(emily)) # 0.951 - F\n",
        "print(\"Frank: %.3f\" % network.feedforward(frank)) # 0.039 - M"
      ],
      "metadata": {
        "colab": {
          "base_uri": "https://localhost:8080/"
        },
        "id": "QPzz4t4Uod2Z",
        "outputId": "85fc7be9-955e-428a-e4a7-d7843a4f27be"
      },
      "execution_count": 12,
      "outputs": [
        {
          "output_type": "stream",
          "name": "stdout",
          "text": [
            "Epoch 0 loss: 0.258\n",
            "Epoch 10 loss: 0.102\n",
            "Epoch 20 loss: 0.039\n",
            "Epoch 30 loss: 0.024\n",
            "Epoch 40 loss: 0.018\n",
            "Epoch 50 loss: 0.015\n",
            "Epoch 60 loss: 0.013\n",
            "Epoch 70 loss: 0.011\n",
            "Epoch 80 loss: 0.010\n",
            "Epoch 90 loss: 0.008\n",
            "Emily: 0.887\n",
            "Frank: -0.007\n"
          ]
        }
      ]
    },
    {
      "cell_type": "code",
      "source": [
        "# task2.02: найти минимум для x**2+2x-6\n",
        "\n",
        "# Функция градиента\n",
        "def dJ(x):\n",
        "    return 2 * x + 2\n",
        "\n",
        " # Функция потерь\n",
        "def J(x):\n",
        "    return (x ** 2 + 2 * x - 6)\n",
        "\n",
        "x = 0.0\n",
        " # Записываем точку каждого падения градиента\n",
        "history_x=[x]\n",
        "i_iter=0.1\n",
        " # Скорость обучения\n",
        "learn_rate = 0.01\n",
        " # Выполнить градиентную итерацию\n",
        "while i_iter < 1e4:\n",
        "    i_iter += 0.1\n",
        "    dj = dJ(x)\n",
        "    last_x = x\n",
        "    x =x - learn_rate * dj\n",
        "    history_x.append(x)\n",
        "\n",
        "         # Если итерация достигнута точно, расчет завершен\n",
        "    if abs(J(x)-J(last_x))<0.0000000001 :\n",
        "        break\n",
        "\n",
        "history_y = J(np.array(history_x))\n",
        "print(f'Координата x в минимуме параболы равна {round(x, 1)}')"
      ],
      "metadata": {
        "colab": {
          "base_uri": "https://localhost:8080/"
        },
        "id": "LPonWq0EnUSy",
        "outputId": "f836a0ee-5efd-4743-cd55-e6a09b36af35"
      },
      "execution_count": 26,
      "outputs": [
        {
          "output_type": "stream",
          "name": "stdout",
          "text": [
            "Координата x в минимуме параболы равна -1.0\n"
          ]
        }
      ]
    },
    {
      "cell_type": "code",
      "source": [
        "import matplotlib.pyplot as plt\n",
        "# y = x ** 2 + 2 * x - 6\n",
        "# Создаем арифметическую последовательность plot_x1\n",
        "plot_x1 = np.linspace(-5, 5, 30)\n",
        "# Рассчитываем plot_y1 согласно нашему уравнению\n",
        "plot_y1 = (plot_x1 ** 2 + 2 * plot_x1 - 6)\n",
        "# Возьмем соответствующее положение plot_x1 plot_y1 как координаты x, y точки, затем нарисуем кривую квадратного уравнения\n",
        "plt.plot(plot_x1, plot_y1)\n",
        "plt.show()\n",
        "plt.plot(plot_x1, plot_y1)\n",
        "plt.plot(history_x, history_y,color='r', marker='+');"
      ],
      "metadata": {
        "colab": {
          "base_uri": "https://localhost:8080/",
          "height": 843
        },
        "id": "GQpKfG91t7_X",
        "outputId": "99bebdc3-0893-4f4f-ed96-f3c3a6d22a39"
      },
      "execution_count": 29,
      "outputs": [
        {
          "output_type": "display_data",
          "data": {
            "text/plain": [
              "<Figure size 640x480 with 1 Axes>"
            ],
            "image/png": "[encoded data removed]"
          },
          "metadata": {}
        },
        {
          "output_type": "display_data",
          "data": {
            "text/plain": [
              "<Figure size 640x480 with 1 Axes>"
            ],
            "image/png": "[encoded data removed]"
          },
          "metadata": {}
        }
      ]
    }
  ]
}